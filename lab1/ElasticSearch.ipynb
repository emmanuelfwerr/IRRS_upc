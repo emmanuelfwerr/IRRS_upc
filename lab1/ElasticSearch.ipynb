{
 "cells": [
  {
   "cell_type": "markdown",
   "metadata": {},
   "source": [
    "# Session 1 - ElasticSearch - Zipf/Heaps laws"
   ]
  },
  {
   "cell_type": "markdown",
   "metadata": {},
   "source": [
    "## 1 Running Elastic Search"
   ]
  },
  {
   "cell_type": "markdown",
   "metadata": {},
   "source": [
    " During the first part of this session we will configure and run an ElasticSearch instance. \n",
    "\n",
    "**Read the first section of the documentation and follow its instructions.**"
   ]
  },
  {
   "cell_type": "markdown",
   "metadata": {},
   "source": [
    "After following the instructions you should test if ElasticSearch is up and running using the script `elastic-test.py`"
   ]
  },
  {
   "cell_type": "markdown",
   "metadata": {},
   "source": [
    "The answer that you should get is the following:"
   ]
  },
  {
   "cell_type": "code",
   "execution_count": 12,
   "metadata": {},
   "outputs": [
    {
     "name": "stdout",
     "output_type": "stream",
     "text": [
      "b'{\\n  \"name\" : \"13b0aeb3d02a\",\\n  \"cluster_name\" : \"docker-cluster\",\\n  \"cluster_uuid\" : \"oF21LE00RfG24YMw5J900w\",\\n  \"version\" : {\\n    \"number\" : \"7.17.7\",\\n    \"build_flavor\" : \"default\",\\n    \"build_type\" : \"docker\",\\n    \"build_hash\" : \"78dcaaa8cee33438b91eca7f5c7f56a70fec9e80\",\\n    \"build_date\" : \"2022-10-17T15:29:54.167373105Z\",\\n    \"build_snapshot\" : false,\\n    \"lucene_version\" : \"8.11.1\",\\n    \"minimum_wire_compatibility_version\" : \"6.8.0\",\\n    \"minimum_index_compatibility_version\" : \"6.0.0-beta1\"\\n  },\\n  \"tagline\" : \"You Know, for Search\"\\n}\\n'\n"
     ]
    }
   ],
   "source": [
    "%run elastic_test.py"
   ]
  },
  {
   "cell_type": "markdown",
   "metadata": {},
   "source": [
    "***\n",
    "\n",
    "## 2 Indexing and querying\n",
    "\n",
    "**Take a moment to read section 2.1 of the documentation **\n",
    "\n",
    "ElasticSearch is a database that allows storing documents (tables do not need a predefined schema as in relational databases). Text in these documents can be processed so the queries extend beyond exact matches allowing complex queries, fuzzy matching and ranking documents respect to the actual match. \n",
    "\n",
    "These kind of databases are behind search engines like Google Search or Bing.\n",
    "\n",
    "There are different ways of operating with ElasticSearch. It is deployed esentially as a web service with a REST API, so we can accessed basically from any language with a library for operating with HTTP servers. You have a link to the full documentation in the session document.\n",
    "\n",
    "We are going to use two python libraries for programming `elasticsearch` and `elasticsearch-dsl`. Both provide access to ElasticSearch functionalities hidding and making more programming friendly the interactions, the second one is more convenient for configurating and searching.\n",
    "\n",
    "We are only going to see the essential elements for developing the session but feel free to learn a little bit more. \n"
   ]
  },
  {
   "cell_type": "markdown",
   "metadata": {},
   "source": [
    "To interact with ElasticSearch with need a client object of type `Elasticsearch`, if we have running the server in the localhost and with the default configuration we don't need to pass any parameters to the object."
   ]
  },
  {
   "cell_type": "code",
   "execution_count": 14,
   "metadata": {
    "collapsed": true
   },
   "outputs": [
    {
     "name": "stderr",
     "output_type": "stream",
     "text": [
      "/var/folders/hd/rpm_8j3d44n1dqt00dv0sps00000gn/T/ipykernel_92975/837222285.py:9: DeprecationWarning: Using positional arguments for APIs is deprecated and will be disabled in 8.0.0. Instead use only keyword arguments for all APIs. See https://github.com/elastic/elasticsearch-py/issues/1698 for more information\n",
      "  es_client.indices.get_alias(\"*\")\n",
      "/Users/efwerr/miniforge3/envs/irrs_env/lib/python3.11/site-packages/elasticsearch/connection/base.py:200: ElasticsearchWarning: this request accesses system indices: [.apm-custom-link, .apm-agent-configuration, .kibana_task_manager_7.17.7_001, .kibana_7.17.7_001], but in a future major version, direct access to system indices will be prevented by default\n",
      "  warnings.warn(message, category=ElasticsearchWarning)\n"
     ]
    },
    {
     "data": {
      "text/plain": [
       "{'test': {'aliases': {}},\n",
       " '.apm-custom-link': {'aliases': {}},\n",
       " '.apm-agent-configuration': {'aliases': {}},\n",
       " '.kibana-event-log-7.17.7-000001': {'aliases': {'.kibana-event-log-7.17.7': {'is_write_index': True,\n",
       "    'is_hidden': True}}},\n",
       " '.kibana_task_manager_7.17.7_001': {'aliases': {'.kibana_task_manager': {},\n",
       "   '.kibana_task_manager_7.17.7': {}}},\n",
       " '.kibana_7.17.7_001': {'aliases': {'.kibana': {}, '.kibana_7.17.7': {}}}}"
      ]
     },
     "execution_count": 14,
     "metadata": {},
     "output_type": "execute_result"
    }
   ],
   "source": [
    "from __future__ import print_function\n",
    "from elasticsearch import Elasticsearch\n",
    "\n",
    "es_client = Elasticsearch(\n",
    "    hosts=[{\"host\": \"localhost\", \"port\": 9200}],\n",
    "    http_auth=[\"elastic\", \"changeme\"],\n",
    ")\n",
    "\n",
    "es_client.indices.get_alias(\"*\")"
   ]
  },
  {
   "cell_type": "markdown",
   "metadata": {},
   "source": [
    "With this client you have a connection for operatinh with Elastic search. Now we will create an index. There are index operations in each libraty, but the one in `elasticseach-dsl` is simpler to use."
   ]
  },
  {
   "cell_type": "code",
   "execution_count": 15,
   "metadata": {},
   "outputs": [
    {
     "name": "stderr",
     "output_type": "stream",
     "text": [
      "/var/folders/hd/rpm_8j3d44n1dqt00dv0sps00000gn/T/ipykernel_92975/2948493623.py:1: DeprecationWarning: Using positional arguments for APIs is deprecated and will be disabled in 8.0.0. Instead use only keyword arguments for all APIs. See https://github.com/elastic/elasticsearch-py/issues/1698 for more information\n",
      "  es_client.indices.get_alias(\"*\")\n",
      "/Users/efwerr/miniforge3/envs/irrs_env/lib/python3.11/site-packages/elasticsearch/connection/base.py:200: ElasticsearchWarning: this request accesses system indices: [.kibana_7.17.7_001, .apm-agent-configuration, .apm-custom-link, .kibana_task_manager_7.17.7_001], but in a future major version, direct access to system indices will be prevented by default\n",
      "  warnings.warn(message, category=ElasticsearchWarning)\n"
     ]
    },
    {
     "data": {
      "text/plain": [
       "{'test': {'aliases': {}},\n",
       " 'news': {'aliases': {}},\n",
       " '.kibana_7.17.7_001': {'aliases': {'.kibana': {}, '.kibana_7.17.7': {}}},\n",
       " '.apm-agent-configuration': {'aliases': {}},\n",
       " '.apm-custom-link': {'aliases': {}},\n",
       " '.kibana_task_manager_7.17.7_001': {'aliases': {'.kibana_task_manager': {},\n",
       "   '.kibana_task_manager_7.17.7': {}}},\n",
       " '.kibana-event-log-7.17.7-000001': {'aliases': {'.kibana-event-log-7.17.7': {'is_write_index': True,\n",
       "    'is_hidden': True}}}}"
      ]
     },
     "execution_count": 15,
     "metadata": {},
     "output_type": "execute_result"
    }
   ],
   "source": [
    "es_client.indices.get_alias(\"*\")"
   ]
  },
  {
   "cell_type": "code",
   "execution_count": 4,
   "metadata": {
    "collapsed": true
   },
   "outputs": [],
   "source": [
    "from elasticsearch_dsl import Index\n",
    "\n",
    "index = Index('test', using=es_client)"
   ]
  },
  {
   "cell_type": "markdown",
   "metadata": {},
   "source": [
    "First we will need some text to index, for testing purposes we are going to use the python library `loremipsum`. We will need to install it first if it is not installed already, uncomment the code in next cell if you need to install the library"
   ]
  },
  {
   "cell_type": "code",
   "execution_count": 2,
   "metadata": {},
   "outputs": [],
   "source": [
    "#!pip install loremipsum --user  # Restart the kernel if you are not able to import the library in the next cell"
   ]
  },
  {
   "cell_type": "markdown",
   "metadata": {},
   "source": [
    "Now we create some random paragraphs"
   ]
  },
  {
   "cell_type": "code",
   "execution_count": 5,
   "metadata": {},
   "outputs": [
    {
     "name": "stdout",
     "output_type": "stream",
     "text": [
      "B'quam' b'ut'. B'nisl' b'at' b'a' b'a'. B'ante' b'id' b'quisque' b'ipsum' b'erat' b'semper' b'a' b'nisl' b'id' b'a' b've' b'velit' b'ligula' b'a' b'et' b'a' b'mus' b'a'. B'duis' b'ad' b'a' b'est' b'a' b'a' b'a' b'nam' b'montes'. B'quam' b'at' b've' b'habitant' b'a' b'per' b'a' b'lorem' b'a' b'imperdiet'. B'quis' b've'. B'arcu' b'mi' b'nisi' b'pede' b'sit'. B'odio' b'in' b'a' b'a' b'a' b'at' b'nibh' b'a' b'a' b'a' b'hac' b'morbi' b'facilisi' b'netus'. B'quam' b'ut' b'a' b'a' b'a' b'a' b'mi' b'dapibus'. B'pede' b'ac' b'a' b'netus' b'rhoncus' b'dis' b'a' b'dis' b'mauris' b'a' b'auctor' b'at'. B'nisi' b'ad'. B'diam' b'ac' b'ad' b'a'. B'amet' b'eu'. B'diam' b'mi' b'in' b'mi' b'ut' b'eu' b'netus'. B'eget' b'et' b'duis' b'a' b'a' b'a' b'a' b'vehicula'. B'quis' b'ut' b'a' b'ac' b'primis' b'a' b'a'. B'eros' b'mi' b'a' b'a' b'ac' b'a' b'ad' b'dis' b'a' b'dis'. B'cras' b'in' b'a' b'a' b'a' b'a' b'dui' b'a' b'a' b'neque' b'a' b'nibh' b'a' b'torquent'. B'arcu' b'in' b'a' b'a' b'curae' b'eni' b'per' b'porta' b'a' b'in' b'cum' b'eni' b'a'. B'duis' b'ac' b'a' b'a' b'a' b'curae'. B'diam' b'id' b'eu' b'mi' b'a' b'montes' b'a' b'ultricies' b'ac' b'a' b'cras' b'enim'. B'arcu' b'ac' b'at' b'a' b'a' b've' b'mus'. B'enim' b'mi'. B'elit' b've' b'a' b'a' b'ad'. B'amet' b'at'. B'urna' b'et'. B'pede' b'et' b'a' b'ad' b'a' b'a' b'a' b'platea' b'hac' b'nostra' b'velit' b'a' b'orci' b'a'. B'eget' b'mi' b'a' b'ante' b'a' b'ante' b'a' b'a' b'a' b'nec' b'a' b'feugiat'. B'ante' b'ad' b'in' b'dui' b'ut' b'sem' b'arcu' b'odio' b'porta' b'a' b'a'. B'orci' b'mi' b'a' b'a'. B'cras' b'id' b'at' b'dis' b'a' b'ipsum'. B'ante' b've' b'a' b'a' b'dis' b'id' b'nisi' b'a' b'mus'. B'elit' b'ac'. B'ante' b'ad' b'gravida' b'nulla' b'orci' b'at' b'et' b'hac'. B'amet' b'in' b'a' b'donec' b'nam' b'nonummy' b'ac'. B'erat' b'et'. B'nibh' b'ad' b'amet' b'a'. B'eget' b'mi' b'a' b'eni' b'a' b'morbi' b'enim' b'duis' b'est' b'ut' b'a' b'mauris'. B'arcu' b'et' b'a' b'nostra' b'a'. B'eget' b'id' b'a' b'a' b'a' b'in' b'ac' b'et' b'a'. B'pede' b've' b'a' b'a' b'a' b'a'. B'ante' b'in' b'a' b'semper'. B'odio' b'ad'. B'enim' b'eu' b'a' b'a' b'a' b'a' b'proin' b'inceptos' b'curae' b'pede'. B'eros' b'ut'. B'quis' b'mi' b'a' b'justo' b'a' b'pellentesque' b'mus'. B'nisi' b'at' b'a'. B'enim' b'at' b'a' b'hac' b'ut' b'a' b'elit' b'dolor' b'at'. B'enim' b've' b'enim' b'a' b'a' b'per' b'eni' b'et' b'in' b'mi'. B'amet' b'et'. B'urna' b'ut' b'a' b'at' b'imperdiet' b'ac' b'a' b'tellus' b'a' b'ac' b'a' b'eu' b'nam' b'per'. B'nibh' b'id' b'a' b'a' b'non'. B'quam' b'ac' b'a' b'a'. B'diam' b'at' b've' b'non' b'fames' b'ad' b'at' b'sit' b'sodales' b'convallis' b'nunc' b've' b'a' b'quam' b'a' b'lacus' b'a' b'diam'. B'nisi' b'id' b'a' b'a' b'quis' b'a' b'a' b'at' b'nostra'. B'eget' b'at'. B'odio' b'at'. B'arcu' b'eu' b'a' b'cursus' b'pharetra' b'mauris' b'a' b'nunc' b'in' b'a' b'et' b'cum' b'per' b'ut' b'interdum' b'neque'. B'ante' b'eu' b'a' b'donec' b'congue' b'a' b'erat' b'urna'. B'duis' b'at' b'a' b'a'. B'amet' b'at' b'a' b'ligula' b'suscipit'. B'diam' b'at' b'feugiat' b'justo' b'a' b'a' b'primis' b'a' b'a'. B'diam' b'at'. B'odio' b'et' b'ut' b'ad' b'netus' b'at' b'a' b'nec' b'netus' b'litora'. B'elit' b'ut'. B'amet' b've' b'a' b'a' b'pede' b'et' b'a' b'a' b'a' b'a' b'hac' b'a' b'nonummy' b'a'. B'nisi' b'ac' b'a' b'a'. B'nisi' b'ut' b'urna' b'a' b'massa' b'eu' b'elementum' b'fusce' b'ad' b'a'. B'duis' b'mi' b'ac' b'a' b'odio' b'in' b'aliquam' b'curae' b'diam' b'eu' b'a'. B'elit' b'ut' b'a' b'a' b'a' b'laoreet'. B'ante' b'id' b'a' b'a' b'a' b'sem' b'a' b'a' b'pulvinar'. B'nibh' b'at' b'a' b'a' b'a' b'molestie' b'eros' b'pulvinar' b'a'. B'quis' b'ut' b'a' b'a' b'ut'. B'diam' b'et' b'id' b'eleifend'. B'quis' b'ad' b'id' b'a' b'diam' b'a' b'dis'. B'quam' b'eu' b'a' b've' b'at'. B'diam' b'at' b'a' b'a' b'a' b'mi'. B'duis' b'in' b'a' b'id' b'sem'. B'urna' b'ac' b'a' b'quis' b'erat' b'a' b'ac' b'dolor' b'a' b'sed'. B'arcu' b'in' b'eu' b'mi'. B'nunc' b'mi'. B'quis' b've' b'a' b've' b'varius' b'nisi' b'id' b'a' b'elit' b'in'. B'elit' b'in'. B'ante' b've' b'a' b'sem' b'nulla' b'a' b'per' b'ante' b'orci' b'cum'. B'pede' b've' b'id' b'a' b'mus' b'a'. B'quam' b'mi' b'a' b'a' b'a' b'pede' b'fusce' b'orci' b'eu' b'mi' b'in' b'mi'. B'nisl' b'ut'. B'enim' b've'. B'odio' b'mi' b'a' b'sit' b'a' b'purus' b'enim' b'diam' b'a' b'donec'. B'pede' b'ac' b'a' b'a' b'nam' b'feugiat' b'ad' b'a' b'a' b'a' b'ut' b'vitae'. B'ante' b'eu'. B'quam' b'in'. B'diam' b'ut' b'a' b'aliquam' b'mi' b'a' b'a'. B'duis' b've'. B'nisl' b'ad' b'a' b'a' b'a' b'a' b'dui' b'velit' b'a' b'odio' b'mi' b'a' b'hac' b'sit' b'quam' b'erat'. B'nibh' b've' b'a' b'a' b'a' b'a' b'ac' b'a' b'id'. B'pede' b'eu' b'a' b'nisi' b'a' b'a' b'hendrerit'. B'nibh' b'in' b'a' b'mauris' b'a' b'a' b'a' b'a' b'a' b'a'. B'nisi' b'et'. B'arcu' b'ut'. B'nisi' b'at' b'et' b'leo' b'ad' b'a'. B'nisi' b'ac' b'a' b'posuere' b'in' b'a' b'tellus' b'fermentum' b'a' b'turpis' b'a'. B'nisl' b'ad'. B'enim' b'id'. B'duis' b'mi' b'a' b'ad' b'sed' b'eu' b'purus'. B'eros' b'mi' b'eu' b'nibh' b'quis' b'a' b'a' b'a' b'a'. B'eget' b'at' b'et' b'a' b'a'. B'arcu' b'ad' b'a' b'non' b'duis' b'cras' b'a' b'penatibus' b'posuere'. B'nunc' b'at' b'a' b'nam' b'a' b'urna' b'in' b'a' b'a' b'a' b'a' b'duis' b'a'. B'eget' b'eu' b'enim' b'a' b'a' b'a' b'urna' b'a' b'cum' b'a' b'a'. B'odio' b'id' b'a'. B'diam' b've' b'laoreet' b'class' b'a' b'leo' b'amet' b'quis' b'nec' b'ac' b'a'. B'duis' b'id' b'a' b'a' b'quam' b'sit'. B'duis' b'ad' b'a' b'a' b'a' b'a' b'a' b'montes' b'est' b'ut' b'porta' b'aliquam' b'vel'. B'nisi' b'eu'. B'odio' b'eu'. B'quam' b'at' b'a' b'ante' b'mi'. B'nisl' b'in' b'eu' b'a' b'morbi' b'massa' b've' b'a' b'id' b'a'. B'cras' b'mi' b'a' b'a' b'a' b'justo'. B'pede' b'in' b'natoque' b'a' b'nec'. B'quis' b'in' b'a' b'cum'. B'nisi' b'ut' b'mi' b'morbi' b'a' b'nec' b'a' b'massa' b'odio' b'a'. B'cras' b'ad' b'a' b'potenti' b'a' b'nam' b'a' b'sem' b'a'. B'enim' b'in' b'a' b'a' b'netus' b'nunc' b'id'. B'eget' b'id'. B'elit' b'eu' b'cubilia' b'accumsan' b'sed' b'a' b'a' b'a'. B'ante' b'at'. B'odio' b'ad' b'a' b'montes' b'ornare' b'a' b'a' b'a'. B'diam' b'in' b'a' b'magna' b'platea' b'a' b'pulvinar' b'a' b'a'. B'nunc' b'eu'. B'quam' b'ut' b'a' b'vitae' b'nullam' b'a' b'a' b'in' b'montes' b'a'. B'odio' b'id' b'a' b'varius'. B'eros' b'mi' b'a'. B'eget' b'ut' b'a'. B'nisi' b'mi' b'a' b'vel' b'a' b'enim' b'est'. B'cras' b've' b'a' b'est' b'justo' b'congue' b'a' b'pede'. B'nibh' b'ad' b'diam' b'dis' b'ad' b'cubilia' b'a'. B'nunc' b'id' b'a' b'a' b'a' b'at' b'nisi' b'cum' b'at' b'et'. B'elit' b'ac' b'a' b'ut' b'a' b'a' b'porta' b'ac' b'platea' b'a' b'a' b'a' b'ut' b'enim' b'nostra'. B'eget' b'at' b'a' b'a' b'a' b'orci' b'non' b'a'. B'amet' b'id' b'a' b'hac' b'ante' b'a'. B'quis' b'ad' b'at'. B'nisl' b'et'. B'orci' b'ac' b'a' b'quis' b'a' b'nec' b'a' b'at'. B'quam' b'in' b'a' b'a' b'sem' b'eni' b'a'. B'cras' b'ad'. B'urna' b'eu' b'a' b'eget' b'luctus'. B'duis' b'et' b'a' b'a' b'ad' b'sed'. B'nisi' b'at' b'nonummy' b'a'. B'eros' b'in' b'a' b'a' b'netus' b'aenean' b'ad' b'a' b'curae'. B'ante' b'mi' b'a'. B'nisi' b'ad' b'a' b'ac' b'sem'. B'nunc' b'at'. B'nibh' b'ad' b'in' b'et' b'mus' b'sem' b'ipsum' b'blandit' b'sociis' b'in' b'a' b'a' b'justo' b'gravida'. B'enim' b'mi' b'a'. B'eros' b'et' b'ad' b'leo' b'pulvinar' b'et' b'luctus' b'nisl'. B'eros' b'et' b'ante'. B'cras' b'eu' b'mi' b'a' b'elit' b'a' b'non' b'dolor' b'tortor'. B'ante' b'mi'. B'nisl' b'ac'. B'orci' b'id'. B'eget' b'eu' b'a' b'leo' b'a' b'a' b'eu' b'a' b'a' b'id' b'quis' b'a' b'taciti' b'lorem' b'magna' b've'. B'arcu' b'ut'. B'eget' b'et' b'a' b'mus' b'lorem' b'a' b'enim'. B'duis' b'ut' b'a' b'sem' b'eu'. B'duis' b'mi' b'a' b'varius' b'arcu' b'ad' b'arcu'. B'erat' b'ut' b'a' b'neque' b'porta' b'pellentesque' b'euismod' b'orci'. B'enim' b've' b'ante' b'a' b'a' b've' b'a' b'cras' b'in' b'ut' b'arcu'. B'ante' b'eu'. B'nisi' b'at' b've' b'eget' b'a' b'a' b'sed'. B'urna' b'eu' b'a' b'ad' b'a' b'leo' b'proin' b'augue' b'a' b'senectus'. B'diam' b'ad'. B'erat' b'ad' b'ut' b'a'. B'erat' b'ut' b'a'. B'diam' b'ac' b'a' b'a'. B'urna' b'eu'. B'nunc' b've' b'mi' b'vel' b'a' b'proin' b'a' b'a'. B'odio' b'at' b'et'. B'nunc' b've' b'a' b'per' b'a' b'a' b'in' b'proin' b'in' b'a' b'a'. B'enim' b'eu' b've' b'a' b'rutrum' b'per' b'a'. B'quis' b'in' b'a' b'est' b'a'. B'pede' b'id' b'eget' b'a' b'a' b'a' b'a' b'a' b'a'. B'quis' b'at' b'a' b'sem' b'diam' b'a' b'non' b'est' b'mi'. B'erat' b've' b'a' b'nec' b'leo' b'metus' b'ligula' b'eu'. B'arcu' b'ac'. B'elit' b'ad' b'ut' b'nunc' b'a'. B'enim' b'at' b'cubilia' b'nunc' b'a' b'felis'. B'eget' b'ad' b'a' b'a' b'dolor'. B'duis' b've' b'a' b'a' b'a' b'a' b'venenatis' b'amet' b'eu' b'a'. B'nisi' b'mi'. B'erat' b'ac' b'a' b'erat'. B'arcu' b'eu' b'a' b'a' b'taciti' b'habitasse' b'dapibus'. B'nisi' b'ad'. B'quam' b've' b'in' b'a'. B'odio' b've' b'a' b'nisi' b'curae' b'nunc' b'lorem' b'eu' b'a' b'dictum' b'sed' b'dui' b'nisl' b'ante' b'a' b'a' b'elementum' b'consectetuer'. B'elit' b'id' b'ac' b'curae'. B'odio' b'in' b'a'. B'eros' b'id' b'et' b'facilisi' b'lacus' b'a'. B'amet' b'ut' b'a' b'pede' b'a' b'a' b'ac' b'a' b'dis'. B'diam' b'ac' b'quam' b'elit' b'mi' b'a' b'et' b'turpis'. B'pede' b'id' b'a' b'a' b'sed' b'cum' b'augue' b'semper' b'a'. B'nisi' b'ut' b'duis' b'etiam' b'a'. B'eros' b'et'. B'nibh' b've' b'a' b'purus' b'urna' b'sit' b'a' b'a' b'libero'. B'cras' b've' b'a' b'magnis' b'hac' b'a' b'a' b'vivamus' b'a' b'consectetuer' b'nisl' b'dis' b'dui' b'class'. B'odio' b'ut' b'a' b'a' b'a' b'mi' b'a' b'nullam' b'a' b'a'. B'eget' b'id' b'a' b'duis' b'a' b'dui' b'turpis' b'donec' b'dis'. B'quam' b'et' b'a' b'a' b'a'. B'enim' b've' b'a' b'sem' b'a' b'a' b'a' b'nisl'. B'ante' b'ac' b'a' b'sed' b'nec' b'at' b'pretium' b'orci'. B'diam' b'id' b'a' b'mattis' b'habitant' b'ad' b'dis' b'libero' b'id' b'auctor' b'ante' b'in'. B'duis' b'ac'. B'arcu' b'ut' b'et' b'per' b'at' b'cum' b've' b'velit' b'a' b'id' b'vulputate' b've' b'a' b'a' b'libero' b'tincidunt'. B'erat' b'mi' b'a' b'a' b'nulla' b'auctor'. B'diam' b'eu' b'ut'.\n"
     ]
    }
   ],
   "source": [
    "from loremipsum import get_paragraphs\n",
    "text = get_paragraphs(10)\n",
    "print(text[0])"
   ]
  },
  {
   "cell_type": "markdown",
   "metadata": {},
   "source": [
    "Now we can index the paragraphs in ElasticSearch using the `create` method, we can indicate a type of document that will allow to group documents of the same king inside an index. The document is passed as the `body` parameter as a python dictionary. The keys of the dictionary will be the fields of the document, in this case we well have only one (`text`)"
   ]
  },
  {
   "cell_type": "code",
   "execution_count": 7,
   "metadata": {
    "collapsed": true
   },
   "outputs": [
    {
     "name": "stderr",
     "output_type": "stream",
     "text": [
      "/var/folders/hd/rpm_8j3d44n1dqt00dv0sps00000gn/T/ipykernel_92975/3681516083.py:2: DeprecationWarning: The 'body' parameter is deprecated for the 'index' API and will be removed in a future version. Instead use the 'document' parameter. See https://github.com/elastic/elasticsearch-py/issues/1698 for more information\n",
      "  es_client.index(index='test', doc_type='latin', body={'text': t})\n",
      "/Users/efwerr/miniforge3/envs/irrs_env/lib/python3.11/site-packages/elasticsearch/connection/base.py:200: ElasticsearchWarning: Elasticsearch built-in security features are not enabled. Without authentication, your cluster could be accessible to anyone. See https://www.elastic.co/guide/en/elasticsearch/reference/7.17/security-minimal-setup.html to enable security.\n",
      "  warnings.warn(message, category=ElasticsearchWarning)\n",
      "/Users/efwerr/miniforge3/envs/irrs_env/lib/python3.11/site-packages/elasticsearch/connection/base.py:200: ElasticsearchWarning: [types removal] Specifying types in document index requests is deprecated, use the typeless endpoints instead (/{index}/_doc/{id}, /{index}/_doc, or /{index}/_create/{id}).\n",
      "  warnings.warn(message, category=ElasticsearchWarning)\n"
     ]
    }
   ],
   "source": [
    "for t in text:\n",
    "    es_client.index(index='test', doc_type='latin', body={'text': t})"
   ]
  },
  {
   "cell_type": "markdown",
   "metadata": {},
   "source": [
    "Now we can search the documents"
   ]
  },
  {
   "cell_type": "code",
   "execution_count": 11,
   "metadata": {},
   "outputs": [],
   "source": [
    "from elasticsearch_dsl import Search\n",
    "s = Search(using=es_client, index='test')\n",
    "\n",
    "s = s.query('match', text='erat')\n",
    "\n",
    "r = s.execute()\n",
    "\n",
    "for v in r:\n",
    "    print('ID= %s Text= %s' % (v.meta.id, v.text[:75]))"
   ]
  },
  {
   "cell_type": "markdown",
   "metadata": {},
   "source": [
    "***\n",
    "\n",
    "## 2.1 Anatomy of an indexing"
   ]
  },
  {
   "cell_type": "markdown",
   "metadata": {},
   "source": [
    "Now we are ready for indexing some files, download the two sets of files linked in the documentation (*20_newsgroups* and *novels*) and follow the instructions."
   ]
  },
  {
   "cell_type": "markdown",
   "metadata": {},
   "source": [
    " **Follow the instructions** and after that edit the script `IndexFiles.py` and understand how the indexing is performed, you will see that instead of inserting the documents one by one the `bulk` method is used for a more efficient indexing."
   ]
  },
  {
   "cell_type": "markdown",
   "metadata": {},
   "source": [
    "***\n",
    "\n",
    "## 2.2 Looking for mr goodword\n",
    "\n",
    "Now we are ready for query the documents. You have the script `SearchIndex.py` for this purpose, you can invoke the script with three flags:\n",
    "\n",
    "* `--index` that correponds with the index of the files\n",
    "* `--text` that searches for a word in the text field of the documents of the index\n",
    "* `--query` that allows using LUCENE syntax for querying the index\n",
    "\n",
    "\n",
    "These last two flags are mutually exclusive and the first one takes precedence\n",
    "\n",
    "LUCENE syntax allows to use boolean operators in the query (AND, OR, NOT) always upper case and the fuzzy operator `~` with a number $n$ that matches the word allowing up to $n$ mismatches in the string.\n",
    "\n",
    "**Follow the instructions** of the documentation and query the documents indexed. Browse the code and look into the documentation of `elasticsearch-dsl` to learn more about how a query is defined."
   ]
  },
  {
   "cell_type": "markdown",
   "metadata": {},
   "source": [
    "***\n",
    "\n",
    "## 3 Zipf's and Heaps' Laws\n",
    "\n",
    "Now we can work in the tasks for this session. You will have to test if the Zipf and Heaps Laws hold in the documents that you have.\n",
    "\n",
    "You will need a count of the words in all the documents. ElasticSearch allows querying these counts from the ids of the documents.\n",
    "\n",
    "For example:"
   ]
  },
  {
   "cell_type": "code",
   "execution_count": null,
   "metadata": {
    "collapsed": true
   },
   "outputs": [],
   "source": [
    "from elasticsearch.helpers import scan\n",
    "\n",
    "# Search for all the documents and query the list of (word, frequency) of each one\n",
    "# Totals are accumulated in a dictionary\n",
    "voc = {}\n",
    "sc = scan(client, index='test', doc_type='latin', query={\"query\" : {\"match_all\": {}}})\n",
    "for s in sc:\n",
    "    tv = client.termvectors(index='test', doc_type='latin', id=s['_id'], fields=['text'])\n",
    "    if 'text' in tv['term_vectors']:\n",
    "        for t in tv['term_vectors']['text']['terms']:\n",
    "            if t in voc:\n",
    "                voc[t] += tv['term_vectors']['text']['terms'][t]['term_freq']\n",
    "            else:\n",
    "                voc[t] = tv['term_vectors']['text']['terms'][t]['term_freq']\n",
    "\n",
    "                lpal = sorted(voc.items(), reverse=True, key=lambda x: x[1])\n",
    "\n",
    "pal, freq = [p for p, _ in lpal], [f for _, f in lpal]"
   ]
  },
  {
   "cell_type": "markdown",
   "metadata": {},
   "source": [
    "Now we can plot the words frequencies (have in mind that this text is artifically generated)"
   ]
  },
  {
   "cell_type": "code",
   "execution_count": null,
   "metadata": {},
   "outputs": [],
   "source": [
    "import matplotlib.pyplot as plt\n",
    "%matplotlib inline\n",
    "\n",
    "fig = plt.figure(figsize=(20,10))\n",
    "plt.bar(range(len(pal)), freq)\n",
    "a= plt.xticks(range(len(pal)), pal, rotation='vertical')"
   ]
  },
  {
   "cell_type": "markdown",
   "metadata": {},
   "source": [
    "The `CountWords.py` script will generate the list of words and their frequency for an index. \n",
    "\n",
    "**Follow the instructions** in the documentation and **pay attention** to the documentation that you have to deliver for this session. "
   ]
  }
 ],
 "metadata": {
  "kernelspec": {
   "display_name": "Python 3.11.0 ('irrs_env')",
   "language": "python",
   "name": "python3"
  },
  "language_info": {
   "codemirror_mode": {
    "name": "ipython",
    "version": 3
   },
   "file_extension": ".py",
   "mimetype": "text/x-python",
   "name": "python",
   "nbconvert_exporter": "python",
   "pygments_lexer": "ipython3",
   "version": "3.11.0"
  },
  "latex_envs": {
   "LaTeX_envs_menu_present": true,
   "autoclose": false,
   "autocomplete": true,
   "bibliofile": "biblio.bib",
   "cite_by": "apalike",
   "current_citInitial": 1,
   "eqLabelWithNumbers": true,
   "eqNumInitial": 1,
   "hotkeys": {
    "equation": "Ctrl-E",
    "itemize": "Ctrl-I"
   },
   "labels_anchors": false,
   "latex_user_defs": false,
   "report_style_numbering": false,
   "user_envs_cfg": false
  },
  "toc": {
   "nav_menu": {
    "height": "135px",
    "width": "252px"
   },
   "number_sections": true,
   "sideBar": true,
   "skip_h1_title": false,
   "toc_cell": false,
   "toc_position": {},
   "toc_section_display": "block",
   "toc_window_display": false
  },
  "vscode": {
   "interpreter": {
    "hash": "853a85609c504845e321944cec600a636e76eb281e1962f3c7d40f878047530c"
   }
  }
 },
 "nbformat": 4,
 "nbformat_minor": 1
}
