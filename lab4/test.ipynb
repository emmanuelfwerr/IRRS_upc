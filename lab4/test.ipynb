{
 "cells": [
  {
   "cell_type": "code",
   "execution_count": 1,
   "metadata": {},
   "outputs": [
    {
     "name": "stdout",
     "output_type": "stream",
     "text": [
      "Elasticsearch is up and running!\n"
     ]
    }
   ],
   "source": [
    "import requests\n",
    "substring = \"You Know, for Search\".encode()\n",
    "response = requests.get(\"http://127.0.0.1:9200\")\n",
    "if substring in response.content:\n",
    "   print(\"Elasticsearch is up and running!\")\n",
    "else:\n",
    "   print(\"Something went wrong, ensure the cluster is up!\")"
   ]
  },
  {
   "cell_type": "code",
   "execution_count": 2,
   "metadata": {},
   "outputs": [
    {
     "name": "stderr",
     "output_type": "stream",
     "text": [
      "/var/folders/hd/rpm_8j3d44n1dqt00dv0sps00000gn/T/ipykernel_99900/2364991087.py:8: DeprecationWarning: Using positional arguments for APIs is deprecated and will be disabled in 8.0.0. Instead use only keyword arguments for all APIs. See https://github.com/elastic/elasticsearch-py/issues/1698 for more information\n",
      "  es_client.indices.get_alias(\"*\")\n",
      "/Users/efwerr/miniforge3/envs/irrs_env/lib/python3.11/site-packages/elasticsearch/connection/base.py:200: ElasticsearchWarning: Elasticsearch built-in security features are not enabled. Without authentication, your cluster could be accessible to anyone. See https://www.elastic.co/guide/en/elasticsearch/reference/7.17/security-minimal-setup.html to enable security.\n",
      "  warnings.warn(message, category=ElasticsearchWarning)\n",
      "/Users/efwerr/miniforge3/envs/irrs_env/lib/python3.11/site-packages/elasticsearch/connection/base.py:200: ElasticsearchWarning: this request accesses system indices: [.kibana_7.17.7_001, .apm-custom-link, .kibana_task_manager_7.17.7_001, .apm-agent-configuration], but in a future major version, direct access to system indices will be prevented by default\n",
      "  warnings.warn(message, category=ElasticsearchWarning)\n"
     ]
    },
    {
     "data": {
      "text/plain": [
       "{'test': {'aliases': {}},\n",
       " '.kibana_7.17.7_001': {'aliases': {'.kibana': {}, '.kibana_7.17.7': {}}},\n",
       " '.apm-custom-link': {'aliases': {}},\n",
       " '.kibana_task_manager_7.17.7_001': {'aliases': {'.kibana_task_manager': {},\n",
       "   '.kibana_task_manager_7.17.7': {}}},\n",
       " '.apm-agent-configuration': {'aliases': {}},\n",
       " '.kibana-event-log-7.17.7-000001': {'aliases': {'.kibana-event-log-7.17.7': {'is_write_index': True,\n",
       "    'is_hidden': True}}},\n",
       " 'news': {'aliases': {}}}"
      ]
     },
     "execution_count": 2,
     "metadata": {},
     "output_type": "execute_result"
    }
   ],
   "source": [
    "from elasticsearch import Elasticsearch\n",
    "\n",
    "es_client = Elasticsearch(\n",
    "    hosts=[{\"host\": \"localhost\", \"port\": 9200}],\n",
    "    http_auth=[\"elastic\", \"changeme\"],\n",
    ")\n",
    "\n",
    "es_client.indices.get_alias(\"*\")"
   ]
  },
  {
   "cell_type": "code",
   "execution_count": null,
   "metadata": {},
   "outputs": [],
   "source": []
  }
 ],
 "metadata": {
  "kernelspec": {
   "display_name": "Python 3.11.0 ('irrs_env')",
   "language": "python",
   "name": "python3"
  },
  "language_info": {
   "codemirror_mode": {
    "name": "ipython",
    "version": 3
   },
   "file_extension": ".py",
   "mimetype": "text/x-python",
   "name": "python",
   "nbconvert_exporter": "python",
   "pygments_lexer": "ipython3",
   "version": "3.11.0"
  },
  "orig_nbformat": 4,
  "vscode": {
   "interpreter": {
    "hash": "853a85609c504845e321944cec600a636e76eb281e1962f3c7d40f878047530c"
   }
  }
 },
 "nbformat": 4,
 "nbformat_minor": 2
}
