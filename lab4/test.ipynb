{
 "cells": [
  {
   "cell_type": "code",
   "execution_count": 24,
   "metadata": {},
   "outputs": [
    {
     "name": "stdout",
     "output_type": "stream",
     "text": [
      "Elasticsearch is up and running!\n"
     ]
    }
   ],
   "source": [
    "import requests\n",
    "substring = \"You Know, for Search\".encode()\n",
    "response = requests.get(\"http://127.0.0.1:9200\")\n",
    "if substring in response.content:\n",
    "   print(\"Elasticsearch is up and running!\")\n",
    "else:\n",
    "   print(\"Something went wrong, ensure the cluster is up!\")"
   ]
  },
  {
   "cell_type": "code",
   "execution_count": 25,
   "metadata": {},
   "outputs": [
    {
     "name": "stderr",
     "output_type": "stream",
     "text": [
      "/var/folders/hd/rpm_8j3d44n1dqt00dv0sps00000gn/T/ipykernel_31505/2364991087.py:8: DeprecationWarning: Using positional arguments for APIs is deprecated and will be disabled in 8.0.0. Instead use only keyword arguments for all APIs. See https://github.com/elastic/elasticsearch-py/issues/1698 for more information\n",
      "  es_client.indices.get_alias(\"*\")\n",
      "/Users/efwerr/miniforge3/envs/irrs_env/lib/python3.11/site-packages/elasticsearch/connection/base.py:200: ElasticsearchWarning: Elasticsearch built-in security features are not enabled. Without authentication, your cluster could be accessible to anyone. See https://www.elastic.co/guide/en/elasticsearch/reference/7.17/security-minimal-setup.html to enable security.\n",
      "  warnings.warn(message, category=ElasticsearchWarning)\n",
      "/Users/efwerr/miniforge3/envs/irrs_env/lib/python3.11/site-packages/elasticsearch/connection/base.py:200: ElasticsearchWarning: this request accesses system indices: [.apm-custom-link, .apm-agent-configuration, .kibana_task_manager_7.17.7_001, .kibana_7.17.7_001], but in a future major version, direct access to system indices will be prevented by default\n",
      "  warnings.warn(message, category=ElasticsearchWarning)\n"
     ]
    },
    {
     "data": {
      "text/plain": [
       "{'.apm-custom-link': {'aliases': {}},\n",
       " '.apm-agent-configuration': {'aliases': {}},\n",
       " 'news': {'aliases': {}},\n",
       " 'novels': {'aliases': {}},\n",
       " '.kibana_task_manager_7.17.7_001': {'aliases': {'.kibana_task_manager': {},\n",
       "   '.kibana_task_manager_7.17.7': {}}},\n",
       " 'arxiv': {'aliases': {}},\n",
       " '.kibana-event-log-7.17.7-000001': {'aliases': {'.kibana-event-log-7.17.7': {'is_write_index': True,\n",
       "    'is_hidden': True}}},\n",
       " '.kibana_7.17.7_001': {'aliases': {'.kibana': {}, '.kibana_7.17.7': {}}}}"
      ]
     },
     "execution_count": 25,
     "metadata": {},
     "output_type": "execute_result"
    }
   ],
   "source": [
    "from elasticsearch import Elasticsearch\n",
    "\n",
    "es_client = Elasticsearch(\n",
    "    hosts=[{\"host\": \"localhost\", \"port\": 9200}],\n",
    "    http_auth=[\"elastic\", \"changeme\"],\n",
    ")\n",
    "\n",
    "es_client.indices.get_alias(\"*\")"
   ]
  },
  {
   "cell_type": "code",
   "execution_count": null,
   "metadata": {},
   "outputs": [],
   "source": []
  },
  {
   "cell_type": "code",
   "execution_count": 20,
   "metadata": {},
   "outputs": [],
   "source": [
    "prot = [('truck', 1), ('red', 1), ('run', 1), ('slow', 1), ('slow', 1)]\n",
    "doc = ['truck','walk','fast','now','blue', 'red', 'slow', 'slow']\n",
    "\n",
    "new_prot = set([tupl[0] for tupl in set(prot)])\n",
    "\n",
    "intersection = len(list(new_prot.intersection(doc)))\n",
    "union = (len(new_prot) + len(set(doc))) - intersection\n",
    "jaccard = float(intersection) / union"
   ]
  },
  {
   "cell_type": "code",
   "execution_count": 21,
   "metadata": {},
   "outputs": [
    {
     "data": {
      "text/plain": [
       "{'red', 'run', 'slow', 'truck'}"
      ]
     },
     "execution_count": 21,
     "metadata": {},
     "output_type": "execute_result"
    }
   ],
   "source": [
    "prot_l = set([tupl[0] for tupl in set(prot)])\n",
    "prot_l"
   ]
  },
  {
   "cell_type": "code",
   "execution_count": 22,
   "metadata": {},
   "outputs": [
    {
     "data": {
      "text/plain": [
       "3"
      ]
     },
     "execution_count": 22,
     "metadata": {},
     "output_type": "execute_result"
    }
   ],
   "source": [
    "intersection"
   ]
  },
  {
   "cell_type": "code",
   "execution_count": 15,
   "metadata": {},
   "outputs": [
    {
     "data": {
      "text/plain": [
       "8"
      ]
     },
     "execution_count": 15,
     "metadata": {},
     "output_type": "execute_result"
    }
   ],
   "source": [
    "union"
   ]
  },
  {
   "cell_type": "code",
   "execution_count": 16,
   "metadata": {},
   "outputs": [
    {
     "data": {
      "text/plain": [
       "0.125"
      ]
     },
     "execution_count": 16,
     "metadata": {},
     "output_type": "execute_result"
    }
   ],
   "source": [
    "jaccard"
   ]
  },
  {
   "cell_type": "code",
   "execution_count": 2,
   "metadata": {},
   "outputs": [
    {
     "data": {
      "text/plain": [
       "3"
      ]
     },
     "execution_count": 2,
     "metadata": {},
     "output_type": "execute_result"
    }
   ],
   "source": [
    "freq = {'a':'0', 'b':'1', 'c':['2','3']}\n",
    "len(freq)"
   ]
  },
  {
   "cell_type": "code",
   "execution_count": 9,
   "metadata": {},
   "outputs": [],
   "source": [
    "def jaccard(prot, doc):\n",
    "    \"\"\"\n",
    "    Compute here the Jaccard similarity between  a prototype and a document\n",
    "    prot should be a list of pairs (word, probability)\n",
    "    doc should be a list of words\n",
    "    Words must be alphabeticaly ordered\n",
    "\n",
    "    The result should be always a value in the range [0,1]\n",
    "    \"\"\"\n",
    "    new_prot = set([tupl[0] for tupl in set(prot)])\n",
    "\n",
    "    intersection = len(list(new_prot.intersection(doc)))\n",
    "    union = (len(new_prot) + len(set(doc))) - intersection\n",
    "\n",
    "    return float(intersection) / union"
   ]
  },
  {
   "cell_type": "code",
   "execution_count": 13,
   "metadata": {},
   "outputs": [
    {
     "name": "stdout",
     "output_type": "stream",
     "text": [
      "['around', 'call', 'come', 'god', 'it', 'long']\n",
      "['anyth', 'ca', 'got', 'happen', 'includ', 'last']\n",
      "['actual', 'again', 'anoth', 'anyon', 'base', 'becaus']\n"
     ]
    }
   ],
   "source": [
    "values = [('talk.politics.mideast/0017978', ['around', 'call', 'come', 'god', 'it', 'long']), ('talk.politics.mideast/0017746', ['anyth', 'ca', 'got', 'happen', 'includ', 'last']), ('talk.politics.mideast/0017779', ['actual', 'again', 'anoth', 'anyon', 'base', 'becaus'])]\n",
    "for (doc, lwords) in values:\n",
    "    print(lwords)"
   ]
  },
  {
   "cell_type": "code",
   "execution_count": 25,
   "metadata": {},
   "outputs": [
    {
     "name": "stdout",
     "output_type": "stream",
     "text": [
      "lesgoooo\n"
     ]
    }
   ],
   "source": [
    "for clusterId, prototype in proto.items():\n",
    "    for tupl in prototype:\n",
    "        if 'alway' in tupl:\n",
    "            print('lesgoooo')"
   ]
  },
  {
   "cell_type": "code",
   "execution_count": 45,
   "metadata": {},
   "outputs": [],
   "source": [
    "og_proto = []\n",
    "with open('prototypes0.txt', 'r') as prev_assign:\n",
    "    for line in prev_assign:\n",
    "        for word in line.split(':')[1].split():\n",
    "            og_proto.append(word.split('+')[0])\n",
    "            "
   ]
  },
  {
   "cell_type": "code",
   "execution_count": 46,
   "metadata": {},
   "outputs": [
    {
     "data": {
      "text/plain": [
       "['alway',\n",
       " 'be',\n",
       " 'day',\n",
       " 'down',\n",
       " 'els',\n",
       " 'keep',\n",
       " 'kind',\n",
       " 'mean',\n",
       " 'never',\n",
       " 'part',\n",
       " 'seem',\n",
       " 'though',\n",
       " 'while',\n",
       " 'anoth',\n",
       " 'come',\n",
       " 'cs',\n",
       " 'either',\n",
       " 'exist',\n",
       " 'find',\n",
       " 'got',\n",
       " 'includ',\n",
       " 'might',\n",
       " 'need',\n",
       " 'part',\n",
       " 'point',\n",
       " 'possibl',\n",
       " 'question',\n",
       " 'said',\n",
       " 'someth',\n",
       " 'though',\n",
       " 've',\n",
       " 'whi',\n",
       " 'wrong']"
      ]
     },
     "execution_count": 46,
     "metadata": {},
     "output_type": "execute_result"
    }
   ],
   "source": [
    "og_proto"
   ]
  },
  {
   "cell_type": "code",
   "execution_count": null,
   "metadata": {},
   "outputs": [],
   "source": []
  }
 ],
 "metadata": {
  "kernelspec": {
   "display_name": "Python 3.11.0 ('irrs_env')",
   "language": "python",
   "name": "python3"
  },
  "language_info": {
   "codemirror_mode": {
    "name": "ipython",
    "version": 3
   },
   "file_extension": ".py",
   "mimetype": "text/x-python",
   "name": "python",
   "nbconvert_exporter": "python",
   "pygments_lexer": "ipython3",
   "version": "3.11.0"
  },
  "orig_nbformat": 4,
  "vscode": {
   "interpreter": {
    "hash": "853a85609c504845e321944cec600a636e76eb281e1962f3c7d40f878047530c"
   }
  }
 },
 "nbformat": 4,
 "nbformat_minor": 2
}
