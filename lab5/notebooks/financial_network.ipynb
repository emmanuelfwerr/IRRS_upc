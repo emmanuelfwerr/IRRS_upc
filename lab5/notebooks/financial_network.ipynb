{
 "cells": [
  {
   "attachments": {},
   "cell_type": "markdown",
   "metadata": {},
   "source": [
    "# Information Retrieval Lab, Session 5: Network Analysis\n",
    "\n",
    "\n",
    "## 2. Building and Analyzing Our Own Network"
   ]
  },
  {
   "cell_type": "code",
   "execution_count": null,
   "metadata": {},
   "outputs": [],
   "source": [
    "import os\n",
    "import pandas as pd\n",
    "import numpy as np\n",
    "import scipy\n",
    "import matplotlib.pyplot as plt\n",
    "\n",
    "import networkx as nx\n",
    "from requests_html import HTMLSession # for google news source\n",
    "\n",
    "import spacy\n",
    "from spacy import displacy\n",
    "\n",
    "# load 'en_core_web_sm' from spacy\n",
    "nlp = spacy.load('en_core_web_sm')\n",
    "stopwords = nlp.Defaults.stop_words\n",
    "\n",
    "# init HTMLSession instance\n",
    "session = HTMLSession()\n",
    "\n",
    "def fetch_article(url):\n",
    "    '''  '''\n",
    "    page = session.get(url)\n",
    "    return ' '.join(paragraph.text for paragraph in page.html.find('p'))\n",
    "\n",
    "\n",
    "def clean_text(text):\n",
    "    '''  '''\n",
    "    return ' '.join(token.lower() for token in text.split() if token.lower() not in stopwords)\n",
    "    \n",
    "\n",
    "def get_news(topic, n_top=10, session=session):\n",
    "    '''  '''\n",
    "    url = 'http://news.google.com/rss/search?q={}'.format(topic)\n",
    "    page = session.get(url)\n",
    "\n",
    "    news_dict = {\n",
    "        'title':[title.text for title in page.html.find('title')[1:n_top]],\n",
    "        'url':[link.html[7:] for link in page.html.find('link')[1:n_top]]\n",
    "    }\n",
    "\n",
    "    # search summary\n",
    "    n_titles = len(news_dict['title'])\n",
    "    n_urls = len(news_dict['url'])\n",
    "    print(f'extracting news for topic: {topic}')\n",
    "    print(f'n_title = {n_titles} ... n_urls = {n_urls}')\n",
    "\n",
    "    news_df = pd.DataFrame(news_dict)\n",
    "    news_df['body'] = news_df['url'].apply(lambda x: fetch_article(x))\n",
    "\n",
    "    # clean article text\n",
    "    news_df['title'] = news_df['title'].apply(lambda x: clean_text(x))\n",
    "    news_df['body'] = news_df['body'].apply(lambda x: clean_text(x))\n",
    "\n",
    "    news_df.drop('url', axis=1, inplace=True)\n",
    "\n",
    "    news_df.to_csv('../data/financial/raw/{}_news.csv'.format(topic), index=False)\n",
    "\n",
    "\n",
    "# custom lists of topics to scrape\n",
    "topics_list = [\n",
    "    'META', 'AAPL', 'AMZN', 'TSLA', 'GOOG', 'MSFT', 'TSM' # BIG TECH COMPANIES\n",
    "]\n",
    "\n",
    "for topic in topics_list:\n",
    "    get_news(topic, n_top=5)\n",
    "\n",
    "# merge all news into single .csv file and export to 'data/interim/...'\n",
    "all_news_files = [file for file in os.scandir('data/financial/raw') if '.csv' in file.name]\n",
    "\n",
    "all_news_df = pd.DataFrame()\n",
    "\n",
    "for file in all_news_files:\n",
    "    df = pd.read_csv(file)\n",
    "    all_news_df = pd.concat([all_news_df, df])\n",
    "\n",
    "# dropping empty observations\n",
    "all_news_df = all_news_df.dropna() \n",
    "\n",
    "# clean up indices and export to .csv\n",
    "all_news_df.reset_index(inplace=True)\n",
    "all_news_df.drop('index', axis=1, inplace=True)\n",
    "all_news_df.to_csv('../data/interim/all_news.csv', index=False) # export to 'data/interim/...'"
   ]
  },
  {
   "cell_type": "code",
   "execution_count": 278,
   "metadata": {},
   "outputs": [
    {
     "name": "stdout",
     "output_type": "stream",
     "text": [
      "<class 'pandas.core.frame.DataFrame'>\n",
      "RangeIndex: 28 entries, 0 to 27\n",
      "Data columns (total 2 columns):\n",
      " #   Column  Non-Null Count  Dtype \n",
      "---  ------  --------------  ----- \n",
      " 0   title   28 non-null     object\n",
      " 1   body    28 non-null     object\n",
      "dtypes: object(2)\n",
      "memory usage: 576.0+ bytes\n"
     ]
    }
   ],
   "source": [
    "all_news_df.info()"
   ]
  },
  {
   "attachments": {},
   "cell_type": "markdown",
   "metadata": {},
   "source": [
    "### Text Preprocessing & Named Entity Recognition w/ Spacy"
   ]
  },
  {
   "cell_type": "code",
   "execution_count": 332,
   "metadata": {},
   "outputs": [],
   "source": [
    "# import all_news.csv\n",
    "all_news_df = pd.read_csv('../data/financial/all_news.csv')\n",
    "\n",
    "def clean_entities(text):\n",
    "    '''  '''\n",
    "    text = text.replace(\"'\", ' ')\n",
    "    return text.replace('.com', '').replace('.', '').replace(',', '')\n",
    "\n",
    "\n",
    "def get_relationships(doc, window_size=5):\n",
    "    '''  '''\n",
    "    doc = nlp(doc)\n",
    "\n",
    "    # identifying named entities\n",
    "    entity_list = []\n",
    "    sent_entity_df = []\n",
    "    for sent in doc.sents:\n",
    "        \n",
    "        for ent in sent.ents:\n",
    "            if ent.label_ in ['ORG', 'GPE']:\n",
    "                entity_list.append(ent.text.split(' ')[0])\n",
    "            elif ent.label_ in ['PERSON']:\n",
    "                entity_list.append(ent.text)\n",
    "        \n",
    "        sent_entity_df.append({'sentence': sent, 'entities': entity_list})\n",
    "\n",
    "    sent_entity_df = pd.DataFrame(sent_entity_df)\n",
    "\n",
    "    # creating entity relationships\n",
    "    relationships = []\n",
    "    for i in range(sent_entity_df.index[-1]):\n",
    "        end_i = min((i + window_size), sent_entity_df.index[-1])\n",
    "        ent_list = sum((sent_entity_df.loc[i: end_i].entities), [])\n",
    "\n",
    "        # Removing duplicated entities that are next to each other\n",
    "        ent_unique = [ent_list[i] for i in range(len(ent_list)) if (i==0) or ent_list[i] != ent_list[i-1]]\n",
    "\n",
    "        if len(ent_unique) > 1:\n",
    "            for idx, a in enumerate(ent_unique[:-1]):\n",
    "                b = ent_unique[idx + 1]\n",
    "                relationships.append({'source': a, 'target': b})\n",
    "\n",
    "    relationships_df = pd.DataFrame(relationships)\n",
    "\n",
    "    # clean entities text\n",
    "    relationships_df['source'] = relationships_df['source'].apply(lambda x: clean_entities(x))\n",
    "    relationships_df['target'] = relationships_df['target'].apply(lambda x: clean_entities(x))\n",
    "\n",
    "    relationships_df = pd.DataFrame(np.sort(relationships_df.values, axis=1), columns=relationships_df.columns)\n",
    "    relationships_df['value'] = 1\n",
    "    # unknown error fix\n",
    "    try:\n",
    "        relationships_df = relationships_df.groupby(['source', 'target'], sort=False, as_index=False).sum()\n",
    "    except:\n",
    "        return pd.DataFrame()\n",
    "\n",
    "    return relationships_df\n",
    "\n",
    "\n",
    "all_relationships_df = pd.DataFrame()\n",
    "#for i in range(0, len(all_news_df)):\n",
    "for i in range(all_news_df.index[-1]):\n",
    "    df = get_relationships(all_news_df['body'][i])\n",
    "    all_relationships_df = pd.concat([all_relationships_df, df])\n"
   ]
  },
  {
   "cell_type": "code",
   "execution_count": 333,
   "metadata": {},
   "outputs": [
    {
     "name": "stdout",
     "output_type": "stream",
     "text": [
      "<class 'pandas.core.frame.DataFrame'>\n",
      "Int64Index: 335 entries, 0 to 19\n",
      "Data columns (total 3 columns):\n",
      " #   Column  Non-Null Count  Dtype \n",
      "---  ------  --------------  ----- \n",
      " 0   source  335 non-null    object\n",
      " 1   target  335 non-null    object\n",
      " 2   value   335 non-null    int64 \n",
      "dtypes: int64(1), object(2)\n",
      "memory usage: 10.5+ KB\n"
     ]
    }
   ],
   "source": [
    "all_relationships_df.info()"
   ]
  },
  {
   "attachments": {},
   "cell_type": "markdown",
   "metadata": {},
   "source": [
    "## Graph Analysis and Visualization"
   ]
  },
  {
   "cell_type": "code",
   "execution_count": 334,
   "metadata": {},
   "outputs": [],
   "source": [
    "# create a graph from pandas dataframe\n",
    "G = nx.from_pandas_edgelist(\n",
    "    all_relationships_df,\n",
    "    source='source',\n",
    "    target='target',\n",
    "    edge_attr='value',\n",
    "    create_using=nx.Graph()\n",
    ")"
   ]
  },
  {
   "cell_type": "code",
   "execution_count": 335,
   "metadata": {},
   "outputs": [
    {
     "data": {
      "text/plain": [
       "<AxesSubplot: >"
      ]
     },
     "execution_count": 335,
     "metadata": {},
     "output_type": "execute_result"
    },
    {
     "data": {
      "image/png": "[encoded data removed]",
      "text/plain": [
       "<Figure size 640x480 with 1 Axes>"
      ]
     },
     "metadata": {},
     "output_type": "display_data"
    }
   ],
   "source": [
    "# degree centrality\n",
    "degree_dict = nx.degree_centrality(G)\n",
    "degree_df = pd.DataFrame.from_dict(degree_dict, orient='index', columns=['centrality'])\n",
    "\n",
    "# plot top 10 nodes\n",
    "degree_df.sort_values('centrality', ascending=False)[0:21].plot(kind='bar')"
   ]
  },
  {
   "cell_type": "code",
   "execution_count": null,
   "metadata": {},
   "outputs": [],
   "source": [
    "from pyvis.network import Network\n",
    "import community as community_louvain\n",
    "\n",
    "# setting up node size attribute\n",
    "node_degree = dict(G.degree)\n",
    "nx.set_node_attributes(G, node_degree, 'size')\n",
    "\n",
    "# setting up node group attribute\n",
    "communities = community_louvain.best_partition(G)\n",
    "nx.set_node_attributes(G, communities, 'group')\n",
    "\n",
    "net = Network(notebook=True, cdn_resources='in_line', width='1900', height='1200', bgcolor='#222222', font_color='white')\n",
    "net.force_atlas_2based() # set physics ... maybe barnes_hut()\n",
    "\n",
    "net.from_nx(G)\n",
    "net.show('../pyvis/financial_news.html') # needs work!!!"
   ]
  }
 ],
 "metadata": {
  "kernelspec": {
   "display_name": "irrs_env",
   "language": "python",
   "name": "python3"
  },
  "language_info": {
   "codemirror_mode": {
    "name": "ipython",
    "version": 3
   },
   "file_extension": ".py",
   "mimetype": "text/x-python",
   "name": "python",
   "nbconvert_exporter": "python",
   "pygments_lexer": "ipython3",
   "version": "3.11.0 | packaged by conda-forge | (main, Oct 25 2022, 06:21:25) [Clang 14.0.4 ]"
  },
  "orig_nbformat": 4,
  "vscode": {
   "interpreter": {
    "hash": "853a85609c504845e321944cec600a636e76eb281e1962f3c7d40f878047530c"
   }
  }
 },
 "nbformat": 4,
 "nbformat_minor": 2
}
